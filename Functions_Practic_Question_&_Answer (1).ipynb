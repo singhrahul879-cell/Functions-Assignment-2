{
  "nbformat": 4,
  "nbformat_minor": 0,
  "metadata": {
    "colab": {
      "provenance": []
    },
    "kernelspec": {
      "name": "python3",
      "display_name": "Python 3"
    },
    "language_info": {
      "name": "python"
    }
  },
  "cells": [
    {
      "cell_type": "markdown",
      "source": [
        "**Function Theory **"
      ],
      "metadata": {
        "id": "ZShEA6sMJTeW"
      }
    },
    {
      "cell_type": "markdown",
      "source": [
        "# 1.\tWhat is the difference between a function and a method in Python?\n",
        "\n",
        "•\tFunction: A block of code that performs a specific task. It is defined using def and can be called independently.\n",
        "•\tMethod: A function that is associated with an object (usually defined inside a class). It is called using object.method().\n",
        "Example:\n",
        "# Function\n",
        "def greet(name):\n",
        "    return f\"Hello, {name}\"\n",
        "\n",
        "print(greet(\"Rahul\"))\n",
        "\n",
        "# Method\n",
        "class Person:\n",
        "    def greet(self):\n",
        "        return \"Hello!\"\n",
        "\n",
        "p = Person()\n",
        "print(p.greet())   # greet is a method\n"
      ],
      "metadata": {
        "id": "k1dw30TGJcVX"
      }
    },
    {
      "cell_type": "markdown",
      "source": [
        "# 2.\tExplain the concept of function arguments and parameters in Python?\n",
        "•\tParameter: Variable defined inside the function header.\n",
        "•\tArgument: Actual value passed when calling the function.\n",
        "Example:\n",
        "def add(a, b):   # a and b are parameters\n",
        "    return a + b\n",
        "\n",
        "print(add(3, 5))  # 3 and 5 are arguments\n"
      ],
      "metadata": {
        "id": "worFklStJj12"
      }
    },
    {
      "cell_type": "markdown",
      "source": [
        "# 3.\tWhat are the different ways to define and call a function in Python?\n",
        "•\tNormal function using def\n",
        "•\tLambda function\n",
        "•\tUsing recursion\n",
        "•\tCalling with positional, keyword, default, and variable-length arguments\n",
        "Example:\n",
        "def square(x):   # normal function\n",
        "    return x * x\n",
        "\n",
        "# Lambda function\n",
        "cube = lambda x: x**3\n",
        "\n",
        "print(square(4))        # 16\n",
        "print(cube(3))          # 27\n",
        "print(square(x=5))      # keyword argument\n"
      ],
      "metadata": {
        "id": "nAESB8PAJoG-"
      }
    },
    {
      "cell_type": "code",
      "source": [
        "# 4.\tWhat is the purpose of the ‘return’ statement in a Python function?\n",
        "def multiply(a, b):\n",
        "    return a * b\n",
        "\n",
        "result = multiply(4, 5)\n",
        "print(result)\n"
      ],
      "metadata": {
        "colab": {
          "base_uri": "https://localhost:8080/"
        },
        "id": "Lgp3OGhQJsaG",
        "outputId": "114d6f52-5091-47a7-a7a7-18cd09bbeff9"
      },
      "execution_count": null,
      "outputs": [
        {
          "output_type": "stream",
          "name": "stdout",
          "text": [
            "20\n"
          ]
        }
      ]
    },
    {
      "cell_type": "markdown",
      "source": [
        "# 5.\tWhat are Iterators in Python and how do they differ from Iterables?\n",
        "•\tIterable: An object that can return an iterator (e.g., lists, tuples, strings).\n",
        "•\tIterator: An object with __iter__() and __next__() methods, used to get items one by one.\n",
        "Example:\n",
        "nums = [1, 2, 3]        # Iterable\n",
        "it = iter(nums)         # Iterator\n",
        "print(next(it))  # 1\n",
        "print(next(it))  # 2\n"
      ],
      "metadata": {
        "id": "bRasN3DlJwme"
      }
    },
    {
      "cell_type": "markdown",
      "source": [
        "# 6.\tExplain the concept of generators in Python and how they are defined.\n",
        "•\tSpecial functions that use yield instead of return.\n",
        "•\tThey produce values one at a time (lazy evaluation).\n",
        "Example:\n",
        "def count_up_to(n):\n",
        "    i = 1\n",
        "    while i <= n:\n",
        "        yield i\n",
        "        i += 1\n",
        "\n",
        "for num in count_up_to(5):\n",
        "    print(num)\n"
      ],
      "metadata": {
        "id": "mdNpDaNCJzjm"
      }
    },
    {
      "cell_type": "markdown",
      "source": [
        "# 7.\tWhat are the advantages of using generators over regular functions?\n",
        "•\tMemory efficient (don’t store entire result in memory).\n",
        "•\tUseful for large datasets or infinite sequences.\n",
        "•\tFaster iteration as values are generated on demand.\n",
        "Example:\n",
        "# Generator\n",
        "def squares(n):\n",
        "    for i in range(n):\n",
        "        yield i*i\n",
        "\n",
        "for val in squares(5):\n",
        "    print(val)\n"
      ],
      "metadata": {
        "id": "6FHjDVZzJ2ZW"
      }
    },
    {
      "cell_type": "markdown",
      "source": [
        "# 8.\tWhat is a lambda function in Python and when is it typically used?\n",
        "•\tSmall anonymous function defined with lambda.\n",
        "•\tTypically used when function is simple and short.\n",
        "Example:\n",
        "add = lambda a, b: a + b\n",
        "print(add(2, 3))  # 5\n"
      ],
      "metadata": {
        "id": "r5AZWqG5J5x-"
      }
    },
    {
      "cell_type": "markdown",
      "source": [
        "# 9.\tExplain the purpose and usage of ‘map()’ function in Python.\n",
        "•\tmap() applies a function to each element of an iterable.\n",
        "Example:\n",
        "nums = [1, 2, 3, 4]\n",
        "squared = list(map(lambda x: x**2, nums))\n",
        "print(squared)  # [1, 4, 9, 16]\n"
      ],
      "metadata": {
        "id": "i67hK7zOJ75W"
      }
    },
    {
      "cell_type": "markdown",
      "source": [
        "# 10.\twhat is the difference between ‘map()’ , ‘ reduce()’ , ‘ and ‘filter()’ functions in Python?\n",
        "\n",
        "•\tmap() → applies a function to every element.\n",
        "•\tfilter() → selects elements based on a condition.\n",
        "•\treduce() → applies a function cumulatively to reduce elements to a single value.\n",
        "Example:\n",
        "from functools import reduce\n",
        "\n",
        "nums = [1, 2, 3, 4, 5]\n",
        "\n",
        "print(list(map(lambda x: x*2, nums)))        # [2, 4, 6, 8, 10]\n",
        "print(list(filter(lambda x: x%2==0, nums)))  # [2, 4]\n",
        "print(reduce(lambda x, y: x+y, nums))        # 15\n"
      ],
      "metadata": {
        "id": "a2EpXixDJ-Xm"
      }
    },
    {
      "cell_type": "markdown",
      "source": [
        "# 11.\tUsing pen & Paper write the internal mechanism for sum operation using  reduce function on this given\n",
        "list:[47,11,42,13];\n",
        "\n",
        "reduce(lambda x, y: x+y, [47,11,42,13])\n",
        "Step 1: (47+11) = 58\n",
        "Step 2: (58+42) = 100\n",
        "Step 3: (100+13) = 113\n",
        "Final Output = 113\n"
      ],
      "metadata": {
        "id": "3xmtOITIKCmm"
      }
    },
    {
      "cell_type": "markdown",
      "source": [
        "**Functions Practic**"
      ],
      "metadata": {
        "id": "_kFwqPEyJOpG"
      }
    },
    {
      "cell_type": "code",
      "source": [
        "#1.\tWrite a Python function that takes a list of numbers as input and returns the sum of all even numbers in the list.\n",
        "\n",
        "def sum_of_even(numbers):\n",
        "    return sum(num for num in numbers if num % 2 == 0)\n",
        "\n",
        "# Example\n",
        "print(sum_of_even([1, 2, 3, 4, 5, 6]))\n"
      ],
      "metadata": {
        "colab": {
          "base_uri": "https://localhost:8080/"
        },
        "id": "D-1HwZ4DLUjY",
        "outputId": "3fe2860c-bbc6-447f-b9de-cfb72aee15ca"
      },
      "execution_count": null,
      "outputs": [
        {
          "output_type": "stream",
          "name": "stdout",
          "text": [
            "12\n"
          ]
        }
      ]
    },
    {
      "cell_type": "code",
      "execution_count": null,
      "metadata": {
        "id": "tdEGCME4D4lv",
        "colab": {
          "base_uri": "https://localhost:8080/"
        },
        "outputId": "167053d7-1b40-472e-e5b1-6f3811995a2a"
      },
      "outputs": [
        {
          "output_type": "stream",
          "name": "stdout",
          "text": [
            "nohtyP\n"
          ]
        }
      ],
      "source": [
        "# 2. Create a Python function that accepts a string and returns the reverse of that string.\n",
        "def reverse_string(s):\n",
        "    return s[::-1]\n",
        "\n",
        "# Example\n",
        "print(reverse_string(\"Python\"))\n"
      ]
    },
    {
      "cell_type": "code",
      "source": [
        "# 3. Implement a Python function that takes a list of integers and returns a new list containing the squares of each number.\n",
        "def squares_list(numbers):\n",
        "    return [n**2 for n in numbers]\n",
        "\n",
        "# Example\n",
        "print(squares_list([1, 2, 3, 4]))  # Output: [1, 4, 9, 16]\n"
      ],
      "metadata": {
        "colab": {
          "base_uri": "https://localhost:8080/"
        },
        "id": "3FbX2HYQMUgT",
        "outputId": "03f8ab21-d91e-4682-a068-27783fab4b76"
      },
      "execution_count": null,
      "outputs": [
        {
          "output_type": "stream",
          "name": "stdout",
          "text": [
            "[1, 4, 9, 16]\n"
          ]
        }
      ]
    },
    {
      "cell_type": "code",
      "source": [
        "# 4. Write a Python function that checks if a given number is prime or not from 1 to 200.\n",
        "def is_prime(n):\n",
        "    if n < 2:\n",
        "        return False\n",
        "    for i in range(2, int(n**0.5)+1):\n",
        "        if n % i == 0:\n",
        "            return False\n",
        "    return True\n",
        "\n",
        "# Example\n",
        "print([n for n in range(1, 201) if is_prime(n)])\n"
      ],
      "metadata": {
        "colab": {
          "base_uri": "https://localhost:8080/"
        },
        "id": "4jX9QNGnMmkQ",
        "outputId": "5bbb5563-744d-471c-bc5f-6f83de49a7e4"
      },
      "execution_count": null,
      "outputs": [
        {
          "output_type": "stream",
          "name": "stdout",
          "text": [
            "[2, 3, 5, 7, 11, 13, 17, 19, 23, 29, 31, 37, 41, 43, 47, 53, 59, 61, 67, 71, 73, 79, 83, 89, 97, 101, 103, 107, 109, 113, 127, 131, 137, 139, 149, 151, 157, 163, 167, 173, 179, 181, 191, 193, 197, 199]\n"
          ]
        }
      ]
    },
    {
      "cell_type": "code",
      "source": [
        "# 5. Create an iterator class in Python that generates the Fibonacci sequence up to a specified number of terms.\n",
        "class Fibonacci:\n",
        "    def __init__(self, n):\n",
        "        self.n = n\n",
        "        self.a, self.b = 0, 1\n",
        "        self.count = 0\n",
        "\n",
        "    def __iter__(self):\n",
        "        return self\n",
        "\n",
        "    def __next__(self):\n",
        "        if self.count >= self.n:\n",
        "            raise StopIteration\n",
        "        self.count += 1\n",
        "        value = self.a\n",
        "        self.a, self.b = self.b, self.a + self.b\n",
        "        return value\n",
        "\n",
        "# Example\n",
        "for num in Fibonacci(10):\n",
        "    print(num, end=\" \")\n"
      ],
      "metadata": {
        "colab": {
          "base_uri": "https://localhost:8080/"
        },
        "id": "fOznnN28MonQ",
        "outputId": "78b74de8-ffb7-45ec-9ba3-4bf6abc2b07e"
      },
      "execution_count": null,
      "outputs": [
        {
          "output_type": "stream",
          "name": "stdout",
          "text": [
            "0 1 1 2 3 5 8 13 21 34 "
          ]
        }
      ]
    },
    {
      "cell_type": "code",
      "source": [
        "# 6. Write a generator function in Python that yields the powers of 2 up to a given exponent.\n",
        "def square_number(n):\n",
        " result = []\n",
        " result.append(n ** 2)\n",
        " return result\n",
        "square_number(10)\n"
      ],
      "metadata": {
        "colab": {
          "base_uri": "https://localhost:8080/"
        },
        "id": "oVBebI-dMu34",
        "outputId": "9ff3ae6d-531e-4cf2-fab6-fdabcf82fa43"
      },
      "execution_count": null,
      "outputs": [
        {
          "output_type": "execute_result",
          "data": {
            "text/plain": [
              "[100]"
            ]
          },
          "metadata": {},
          "execution_count": 60
        }
      ]
    },
    {
      "cell_type": "code",
      "source": [
        "# 7. Implement a generator function that reads a file line by line and yields each line as a string.\n",
        "def read_file_lines(filename):\n",
        "    with open(filename, 'r') as file:\n",
        "        for line in file:\n",
        "            yield line.strip()\n",
        "\n",
        "#Example (assuming sample.txt exists)\n",
        "#for line in read_file_lines(\"sample.txt\"):\n",
        " #print(line)\n"
      ],
      "metadata": {
        "id": "YaM8UN5vNako"
      },
      "execution_count": null,
      "outputs": []
    },
    {
      "cell_type": "code",
      "source": [
        "# 8. Use a lambda function in Python to sort a list of tuples based on the second element of each tuple.\n",
        "data = [(1, 5), (3, 1), (2, 4)]\n",
        "sorted_data = sorted(data, key=lambda x: x[1])\n",
        "print(sorted_data)  # Output: [(3, 1), (2, 4), (1, 5)]\n"
      ],
      "metadata": {
        "colab": {
          "base_uri": "https://localhost:8080/"
        },
        "id": "-tFVT6O3NmTA",
        "outputId": "578a0cc8-83b9-484c-e4b5-eb98f2ab73ab"
      },
      "execution_count": null,
      "outputs": [
        {
          "output_type": "stream",
          "name": "stdout",
          "text": [
            "[(3, 1), (2, 4), (1, 5)]\n"
          ]
        }
      ]
    },
    {
      "cell_type": "code",
      "source": [
        "# 9. Write a Python program that uses `map()` to convert a list of temperatures from Celsius to Fahrenheit.\n",
        "temps_c = [0, 20, 37, 100]\n",
        "temps_f = list(map(lambda c: (c * 9/5) + 32, temps_c))\n",
        "print(temps_f)\n"
      ],
      "metadata": {
        "colab": {
          "base_uri": "https://localhost:8080/"
        },
        "id": "wU7SBXc1NpxY",
        "outputId": "389230db-8758-4b28-8e91-53414d83609b"
      },
      "execution_count": null,
      "outputs": [
        {
          "output_type": "stream",
          "name": "stdout",
          "text": [
            "[32.0, 68.0, 98.6, 212.0]\n"
          ]
        }
      ]
    },
    {
      "cell_type": "code",
      "source": [
        "# 10. Create a Python program that uses `filter()` to remove all the vowels from a given string.\n",
        "def remove_vowels(s):\n",
        "    return ''.join(filter(lambda c: c.lower() not in 'aeiou', s))\n",
        "\n",
        "# Example\n",
        "print(remove_vowels(\"Python Programming\"))\n"
      ],
      "metadata": {
        "colab": {
          "base_uri": "https://localhost:8080/"
        },
        "id": "-KrIhbOONuAg",
        "outputId": "c5f71fbc-28e7-4db9-e415-2b58d43002b5"
      },
      "execution_count": null,
      "outputs": [
        {
          "output_type": "stream",
          "name": "stdout",
          "text": [
            "Pythn Prgrmmng\n"
          ]
        }
      ]
    },
    {
      "cell_type": "code",
      "source": [
        "# 11. Imagine an accounting routine used in a book shop. It works on a list with sublists, which look like this:\n",
        "#Order number      Book Title and Author                                           Quantity                        Price per Item\n",
        "# 34587                      Learning Python, Mark Lutz                               4                                         40.95\n",
        "# 98762                     Programming Python, Mark Lutz                             5\t\t                                      56.80\n",
        "# 77226                      Head First Python, Paul Barry                            3                                         32.95\n",
        "# 88112                     Einfuhrung in Python3, Bernd Klein                        3                                         24.99\n",
        " # Write a Python program, which returns a list with 2-tuples. Each tuple consists of the order number and the\n",
        "# product of the price per item and the quantity. The product should be increased by 10,- € if the value of the\n",
        "# order is smaller than 100,00 €.\n",
        "# Write a Python program using lambda and map\n",
        "\n",
        "orders = [ (34587, \"Learning Python, Mark Lutz\", 4, 40.95),\n",
        "    (98762, \"Programming Python, Mark Lutz\", 5, 56.80),\n",
        "    (77226, \"Head First Python, Paul Barry\", 3, 32.95),\n",
        "    (88112, \"Einfuhrung in Python3, Bernd Klein\", 3, 24.99)]\n",
        "\n",
        "order_totals =list (map(lambda order:(order[0], order[2]*order[3] if order[2]*order[3] >= 100 else order[2]*order[3]+10), orders))\n",
        "\n",
        "print(order_totals)\n"
      ],
      "metadata": {
        "colab": {
          "base_uri": "https://localhost:8080/"
        },
        "id": "ydCETDfZN3PY",
        "outputId": "6042b471-31c9-4a26-8736-57a33e4636d6"
      },
      "execution_count": null,
      "outputs": [
        {
          "output_type": "stream",
          "name": "stdout",
          "text": [
            "[(34587, 163.8), (98762, 284.0), (77226, 108.85000000000001), (88112, 84.97)]\n"
          ]
        }
      ]
    }
  ]
}